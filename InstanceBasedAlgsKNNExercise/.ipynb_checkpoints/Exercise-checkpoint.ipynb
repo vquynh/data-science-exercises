{
 "cells": [
  {
   "cell_type": "markdown",
   "id": "62767453",
   "metadata": {},
   "source": [
    "# Instance Based Methods KNN Exercises\n",
    "\n",
    "## Exercise 1\n",
    "\n",
    "Implement KNN by hand for just 2 dimensions with normalization. "
   ]
  },
  {
   "cell_type": "markdown",
   "id": "8ae985dc",
   "metadata": {},
   "source": [
    "This implementation uses the dating dataset from [Peter Harrington book's Machine Learning in Action](https://github.com/pbharrin/machinelearninginaction/blob/master/Ch02/datingTestSet.txt)\n"
   ]
  },
  {
   "cell_type": "code",
   "execution_count": 18,
   "id": "632e235b",
   "metadata": {},
   "outputs": [],
   "source": [
    "filename = \"datingTestSet.txt\"\n"
   ]
  },
  {
   "cell_type": "code",
   "execution_count": null,
   "id": "e80f3e68",
   "metadata": {},
   "outputs": [],
   "source": [
    "This function takes the textfile and returns an input table with 2 columns and a corresponding label vector."
   ]
  },
  {
   "cell_type": "code",
   "execution_count": 276,
   "id": "1943a8dc",
   "metadata": {},
   "outputs": [],
   "source": [
    "def file2data(filename):\n",
    "    fr = open(filename)\n",
    "    linesArray = fr.readlines()\n",
    "    #get the number of lines in the file\n",
    "    numLines = len(linesArray)\n",
    "    #prepare matrix to return\n",
    "    inputs = [[0] * 2 for _ in range(numLines)]\n",
    "    #prepare labels return   \n",
    "    labels = []                       \n",
    "    index = 0\n",
    "    for line in linesArray:\n",
    "        line = line.strip()\n",
    "        listFromLine = line.split('\\t')\n",
    "        inputs[index] = list(map(float, listFromLine[1:3]))\n",
    "        labels.append(listFromLine[-1])\n",
    "        index += 1\n",
    "    return inputs,labels"
   ]
  },
  {
   "cell_type": "code",
   "execution_count": 277,
   "id": "e11a8cd1",
   "metadata": {},
   "outputs": [],
   "source": [
    "# This functions takes a dataSet and normalizes its values to the range of 0 - 1    \n",
    "def normalize(dataSet):\n",
    "    minVals = min(dataSet)\n",
    "    maxVals = max(dataSet)\n",
    "    ranges = [a - b for a, b in zip(maxVals, minVals)]\n",
    "    normDataSet = [[0] * 2 for _ in range(len(dataSet))]\n",
    "    for i in range(len(dataSet)):\n",
    "        for j in range(len(dataSet[i])):\n",
    "            normDataSet[i][j] = (dataSet[i][j]-minVals[j])/(ranges[j])\n",
    "    return normDataSet, ranges, minVals"
   ]
  },
  {
   "cell_type": "code",
   "execution_count": 278,
   "id": "18e04571",
   "metadata": {},
   "outputs": [],
   "source": [
    "# This functions takes 2 points and calculate their two dimensional distance \n",
    "def euclidDistance(A, B):\n",
    "    diff = [a - b for a, b in zip(A, B)]\n",
    "    sqDiff = [d**2 for d in diff]\n",
    "    sqDistance = sum(sqDiff)\n",
    "    distance = sqDistance**0.5\n",
    "    return distance"
   ]
  },
  {
   "cell_type": "code",
   "execution_count": 279,
   "id": "07b1fae6",
   "metadata": {},
   "outputs": [],
   "source": [
    "# This function takes the index of a data point and returns a list of distances from this point to all the other\n",
    "# data points in the set\n",
    "def distancesToOtherPoints(idx, dataSet):\n",
    "    distances = []\n",
    "    otherPointsIdx = (x for x in range(len(dataSet)) if x not in [idx])\n",
    "    for i in otherPointsIdx:\n",
    "        distances.append(euclidDistance(dataSet[idx], dataSet[i]))\n",
    "    return distances"
   ]
  },
  {
   "cell_type": "code",
   "execution_count": 280,
   "id": "0e436895",
   "metadata": {},
   "outputs": [],
   "source": [
    "# This function takes a list of values and returns a list of indices sorted by the values in ascending order\n",
    "def sortIndicesAsc(values):\n",
    "    indices = list(range(len(values)))\n",
    "    for iter_num in range(len(values)-1,0,-1):\n",
    "      for idx in range(iter_num):\n",
    "         if values[idx]>values[idx+1]:\n",
    "            temp = idx\n",
    "            indices[idx] = idx+1\n",
    "            indices[idx+1] = temp\n",
    "    return indices\n",
    "        "
   ]
  },
  {
   "cell_type": "code",
   "execution_count": 306,
   "id": "623bdb92",
   "metadata": {},
   "outputs": [],
   "source": [
    "# This function takes a list of sorted indices and an integer k and a list of labels\n",
    "# returns a dictionary of labels and number of time each label appears with the first k items of the list \n",
    "def aggregateKNNLabels(sortedIndices, k, labels):\n",
    "    labelCount={} \n",
    "    for i in range(k):\n",
    "        label = labels[sortedIndices[i]]\n",
    "        labelCount[label] = labelCount.get(label,0) + 1\n",
    "    return labelCount\n"
   ]
  },
  {
   "cell_type": "code",
   "execution_count": 319,
   "id": "a50466b7",
   "metadata": {},
   "outputs": [],
   "source": [
    "def datingClassiferTest():\n",
    "    # get the data from file\n",
    "    datingData,datingLabels = file2data('datingTestSet.txt')\n",
    "    # normalize data\n",
    "    normData, ranges, minVals = normalize(datingData)\n",
    "    # pick a point in the data, for example the data point with index 77\n",
    "    idx = 77\n",
    "    print(f'Predicting dating outcome for input data: {datingData[idx][0]} frequent flier miles earned per year and {datingData[idx][1]} liters of ice cream consumed per year')    \n",
    "    # create a list of distances\n",
    "    distances = distancesToOtherPoints(idx, normData)\n",
    "    # sort the distances and return their indices\n",
    "    sortedIndices = sortIndicesAsc(distances)\n",
    "    # count the occurrences of each label within k nearest points\n",
    "    k = 30\n",
    "    labelCount = aggregateKNNLabels(sortedIndices, k, datingLabels)\n",
    "    # sort the labels by count \n",
    "    sortedLabels = sortIndicesAsc(list(labelCount.values()))\n",
    "    # get the index of the label with the most count\n",
    "    maxLabelIdx = sortedLabels[len(sortedLabels)-1]\n",
    "    # get label name\n",
    "    labelName = list(labelCount.keys())[maxLabelIdx]\n",
    "    if labelName == datingLabels[idx]:\n",
    "        print(f'The predicted outcome \"{labelName}\" is correct!')\n",
    "    else:\n",
    "        print(f'The predicted outcome \"{labelName}\" does not match with the actual outcome \"{datingLabels[idx]}\"!')\n"
   ]
  },
  {
   "cell_type": "code",
   "execution_count": 320,
   "id": "f1fadcfe",
   "metadata": {},
   "outputs": [
    {
     "name": "stdout",
     "output_type": "stream",
     "text": [
      "Predicting dating outcome for input data: 2.454285 frequent flier miles earned per year and 0.22238 liters of ice cream consumed per year\n",
      "The predicted outcome \"didntLike\" is correct!\n"
     ]
    }
   ],
   "source": [
    "datingClassiferTest()"
   ]
  },
  {
   "cell_type": "code",
   "execution_count": null,
   "id": "e35a0694",
   "metadata": {},
   "outputs": [],
   "source": []
  }
 ],
 "metadata": {
  "kernelspec": {
   "display_name": "Python 3 (ipykernel)",
   "language": "python",
   "name": "python3"
  },
  "language_info": {
   "codemirror_mode": {
    "name": "ipython",
    "version": 3
   },
   "file_extension": ".py",
   "mimetype": "text/x-python",
   "name": "python",
   "nbconvert_exporter": "python",
   "pygments_lexer": "ipython3",
   "version": "3.9.12"
  }
 },
 "nbformat": 4,
 "nbformat_minor": 5
}
