{
 "cells": [
  {
   "cell_type": "markdown",
   "id": "2cf545bb",
   "metadata": {},
   "source": [
    "# Decision Tree Exercise\n",
    "A) Find some data here [1] on people. The goal is to decide if someone buys a computer or not. Derive the best decision tree by calculating a little by hand (Shannon). At least the first split.\n",
    "\n",
    "B) Compare your tree against the tree derived from SciKit Learn as given in the Python example before! Why are they different? Print the tree with Graphviz (can be easily done with WebGraphViz [2])"
   ]
  },
  {
   "cell_type": "markdown",
   "id": "d15289cc",
   "metadata": {},
   "source": [
    "## A. Derive decision tree by hand\n",
    "### The data\n",
    "![data](data.gif)"
   ]
  },
  {
   "cell_type": "markdown",
   "id": "43f17958",
   "metadata": {},
   "source": [
    "### Step 1: Calculate entropy on the target\n",
    "![step1](step1.png)"
   ]
  },
  {
   "cell_type": "markdown",
   "id": "18e0a725",
   "metadata": {},
   "source": [
    "### Step 2: Calculate Information Gain on each branch\n",
    "#### Entropy using the frequency table of two attributes and Information Gain on \"Age\"\n",
    "![age](age.png)"
   ]
  },
  {
   "cell_type": "markdown",
   "id": "3f607449",
   "metadata": {},
   "source": [
    "#### Information Gain on all branches \"Age\", \"Income\", \"Student\" and \"CreditRating\"\n",
    "![all](all.png)"
   ]
  },
  {
   "cell_type": "markdown",
   "id": "55e53c79",
   "metadata": {},
   "source": [
    "### Step 3: Choose attribute with the largest information gain as the decision node, divide the dataset by its branches and repeat the same process on every branch.\t"
   ]
  },
  {
   "cell_type": "markdown",
   "id": "ab09113c",
   "metadata": {},
   "source": [
    "#### The branch with the largest information gain is \"Age\"\n",
    "![age1](age1.png)\n",
    "\n",
    "#### Sort the data by \"Age\"\n",
    "![sort](sort.png)"
   ]
  },
  {
   "cell_type": "markdown",
   "id": "4120d831",
   "metadata": {},
   "source": [
    "### Step 4a: A branch with entropy of 0 is a leaf node.\t\n",
    "![leaf](leaf.png)"
   ]
  },
  {
   "cell_type": "markdown",
   "id": "a893006b",
   "metadata": {},
   "source": [
    "### Step 4b: A branch with entropy more than 0 needs further splitting.\t\n",
    "![step4b](step4b.png)"
   ]
  },
  {
   "cell_type": "markdown",
   "id": "f78a2a79",
   "metadata": {},
   "source": [
    "### Step 5: The algorithm is run recursively on the non-leaf branches, until all data is classified.\t\n"
   ]
  },
  {
   "cell_type": "markdown",
   "id": "41c87907",
   "metadata": {},
   "source": [
    "## B. Decision Tree with SciKit Learn "
   ]
  },
  {
   "cell_type": "code",
   "execution_count": 50,
   "id": "cd9fc130",
   "metadata": {},
   "outputs": [
    {
     "data": {
      "text/html": [
       "<div>\n",
       "<style scoped>\n",
       "    .dataframe tbody tr th:only-of-type {\n",
       "        vertical-align: middle;\n",
       "    }\n",
       "\n",
       "    .dataframe tbody tr th {\n",
       "        vertical-align: top;\n",
       "    }\n",
       "\n",
       "    .dataframe thead th {\n",
       "        text-align: right;\n",
       "    }\n",
       "</style>\n",
       "<table border=\"1\" class=\"dataframe\">\n",
       "  <thead>\n",
       "    <tr style=\"text-align: right;\">\n",
       "      <th></th>\n",
       "      <th>Age</th>\n",
       "      <th>Income</th>\n",
       "      <th>Student</th>\n",
       "      <th>Credit_rating</th>\n",
       "      <th>Buys_computer</th>\n",
       "    </tr>\n",
       "  </thead>\n",
       "  <tbody>\n",
       "    <tr>\n",
       "      <th>0</th>\n",
       "      <td>0</td>\n",
       "      <td>2</td>\n",
       "      <td>0</td>\n",
       "      <td>0</td>\n",
       "      <td>0</td>\n",
       "    </tr>\n",
       "    <tr>\n",
       "      <th>1</th>\n",
       "      <td>0</td>\n",
       "      <td>2</td>\n",
       "      <td>0</td>\n",
       "      <td>1</td>\n",
       "      <td>0</td>\n",
       "    </tr>\n",
       "    <tr>\n",
       "      <th>2</th>\n",
       "      <td>1</td>\n",
       "      <td>2</td>\n",
       "      <td>0</td>\n",
       "      <td>0</td>\n",
       "      <td>1</td>\n",
       "    </tr>\n",
       "    <tr>\n",
       "      <th>3</th>\n",
       "      <td>2</td>\n",
       "      <td>1</td>\n",
       "      <td>0</td>\n",
       "      <td>0</td>\n",
       "      <td>1</td>\n",
       "    </tr>\n",
       "    <tr>\n",
       "      <th>4</th>\n",
       "      <td>2</td>\n",
       "      <td>0</td>\n",
       "      <td>1</td>\n",
       "      <td>0</td>\n",
       "      <td>1</td>\n",
       "    </tr>\n",
       "    <tr>\n",
       "      <th>5</th>\n",
       "      <td>2</td>\n",
       "      <td>0</td>\n",
       "      <td>1</td>\n",
       "      <td>1</td>\n",
       "      <td>0</td>\n",
       "    </tr>\n",
       "    <tr>\n",
       "      <th>6</th>\n",
       "      <td>1</td>\n",
       "      <td>0</td>\n",
       "      <td>1</td>\n",
       "      <td>1</td>\n",
       "      <td>1</td>\n",
       "    </tr>\n",
       "    <tr>\n",
       "      <th>7</th>\n",
       "      <td>0</td>\n",
       "      <td>1</td>\n",
       "      <td>0</td>\n",
       "      <td>0</td>\n",
       "      <td>0</td>\n",
       "    </tr>\n",
       "    <tr>\n",
       "      <th>8</th>\n",
       "      <td>0</td>\n",
       "      <td>0</td>\n",
       "      <td>1</td>\n",
       "      <td>0</td>\n",
       "      <td>1</td>\n",
       "    </tr>\n",
       "    <tr>\n",
       "      <th>9</th>\n",
       "      <td>2</td>\n",
       "      <td>1</td>\n",
       "      <td>1</td>\n",
       "      <td>0</td>\n",
       "      <td>1</td>\n",
       "    </tr>\n",
       "    <tr>\n",
       "      <th>10</th>\n",
       "      <td>0</td>\n",
       "      <td>1</td>\n",
       "      <td>1</td>\n",
       "      <td>1</td>\n",
       "      <td>1</td>\n",
       "    </tr>\n",
       "    <tr>\n",
       "      <th>11</th>\n",
       "      <td>1</td>\n",
       "      <td>1</td>\n",
       "      <td>0</td>\n",
       "      <td>1</td>\n",
       "      <td>1</td>\n",
       "    </tr>\n",
       "    <tr>\n",
       "      <th>12</th>\n",
       "      <td>1</td>\n",
       "      <td>2</td>\n",
       "      <td>1</td>\n",
       "      <td>0</td>\n",
       "      <td>1</td>\n",
       "    </tr>\n",
       "    <tr>\n",
       "      <th>13</th>\n",
       "      <td>2</td>\n",
       "      <td>1</td>\n",
       "      <td>0</td>\n",
       "      <td>1</td>\n",
       "      <td>0</td>\n",
       "    </tr>\n",
       "    <tr>\n",
       "      <th>14</th>\n",
       "      <td>0</td>\n",
       "      <td>1</td>\n",
       "      <td>0</td>\n",
       "      <td>1</td>\n",
       "      <td>0</td>\n",
       "    </tr>\n",
       "    <tr>\n",
       "      <th>15</th>\n",
       "      <td>0</td>\n",
       "      <td>0</td>\n",
       "      <td>0</td>\n",
       "      <td>0</td>\n",
       "      <td>0</td>\n",
       "    </tr>\n",
       "    <tr>\n",
       "      <th>16</th>\n",
       "      <td>0</td>\n",
       "      <td>0</td>\n",
       "      <td>0</td>\n",
       "      <td>1</td>\n",
       "      <td>0</td>\n",
       "    </tr>\n",
       "    <tr>\n",
       "      <th>17</th>\n",
       "      <td>1</td>\n",
       "      <td>0</td>\n",
       "      <td>1</td>\n",
       "      <td>0</td>\n",
       "      <td>1</td>\n",
       "    </tr>\n",
       "    <tr>\n",
       "      <th>18</th>\n",
       "      <td>2</td>\n",
       "      <td>1</td>\n",
       "      <td>1</td>\n",
       "      <td>1</td>\n",
       "      <td>1</td>\n",
       "    </tr>\n",
       "    <tr>\n",
       "      <th>19</th>\n",
       "      <td>1</td>\n",
       "      <td>2</td>\n",
       "      <td>0</td>\n",
       "      <td>1</td>\n",
       "      <td>1</td>\n",
       "    </tr>\n",
       "  </tbody>\n",
       "</table>\n",
       "</div>"
      ],
      "text/plain": [
       "    Age  Income  Student  Credit_rating  Buys_computer\n",
       "0     0       2        0              0              0\n",
       "1     0       2        0              1              0\n",
       "2     1       2        0              0              1\n",
       "3     2       1        0              0              1\n",
       "4     2       0        1              0              1\n",
       "5     2       0        1              1              0\n",
       "6     1       0        1              1              1\n",
       "7     0       1        0              0              0\n",
       "8     0       0        1              0              1\n",
       "9     2       1        1              0              1\n",
       "10    0       1        1              1              1\n",
       "11    1       1        0              1              1\n",
       "12    1       2        1              0              1\n",
       "13    2       1        0              1              0\n",
       "14    0       1        0              1              0\n",
       "15    0       0        0              0              0\n",
       "16    0       0        0              1              0\n",
       "17    1       0        1              0              1\n",
       "18    2       1        1              1              1\n",
       "19    1       2        0              1              1"
      ]
     },
     "execution_count": 50,
     "metadata": {},
     "output_type": "execute_result"
    }
   ],
   "source": [
    "from sklearn.tree import DecisionTreeClassifier\n",
    "import pandas as pd\n",
    "\n",
    "\n",
    "# Creating a dataframe from input file\n",
    "input_file = \"buy_computer_data_numeric.csv\"\n",
    "df = pd.read_csv(input_file, header = 0)\n",
    "df"
   ]
  },
  {
   "cell_type": "code",
   "execution_count": 46,
   "id": "d82c396e",
   "metadata": {},
   "outputs": [
    {
     "name": "stdout",
     "output_type": "stream",
     "text": [
      "Index(['Age_<=30', 'Age_>40', 'Income_Low', 'Income_Medium', 'Student_Yes',\n",
      "       'Credit_rating_Fair'],\n",
      "      dtype='object')\n"
     ]
    }
   ],
   "source": [
    "# one-hot encode categorical variables\n",
    "one_hot_data = pd.get_dummies(df[['Age','Income','Student','Credit_rating']],drop_first=True)\n",
    "print(one_hot_data.columns)"
   ]
  },
  {
   "cell_type": "code",
   "execution_count": 59,
   "id": "2b2c8d51",
   "metadata": {},
   "outputs": [
    {
     "data": {
      "text/plain": [
       "DecisionTreeClassifier(max_depth=2)"
      ]
     },
     "execution_count": 59,
     "metadata": {},
     "output_type": "execute_result"
    }
   ],
   "source": [
    "tree_clf = DecisionTreeClassifier(max_depth=2)\n",
    "tree_clf.fit(df[['Age','Income','Student','Credit_rating']], df['Buys_computer'])"
   ]
  },
  {
   "cell_type": "code",
   "execution_count": 60,
   "id": "fa9fa33b",
   "metadata": {},
   "outputs": [],
   "source": [
    "from sklearn.tree import export_graphviz\n",
    " \n",
    "export_graphviz(\n",
    "         tree_clf,\n",
    "     out_file=\"computer_tree_depth2.dot\",\n",
    "         feature_names=df.columns[0:4],\n",
    "         class_names=[\"Buys_computer=Yes\", \"Buys_computer=No\"],\n",
    "         rounded=True,\n",
    "         filled=True\n",
    ")"
   ]
  },
  {
   "cell_type": "code",
   "execution_count": null,
   "id": "c707409f",
   "metadata": {},
   "outputs": [],
   "source": []
  }
 ],
 "metadata": {
  "kernelspec": {
   "display_name": "Python 3 (ipykernel)",
   "language": "python",
   "name": "python3"
  },
  "language_info": {
   "codemirror_mode": {
    "name": "ipython",
    "version": 3
   },
   "file_extension": ".py",
   "mimetype": "text/x-python",
   "name": "python",
   "nbconvert_exporter": "python",
   "pygments_lexer": "ipython3",
   "version": "3.9.12"
  }
 },
 "nbformat": 4,
 "nbformat_minor": 5
}
