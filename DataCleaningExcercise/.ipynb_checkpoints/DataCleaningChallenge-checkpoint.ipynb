{
 "cells": [
  {
   "cell_type": "markdown",
   "id": "706d617d",
   "metadata": {
    "pycharm": {
     "name": "#%% md\n"
    }
   },
   "source": [
    "# Data Cleaning Challenge\n",
    "\n",
    "## [Handling missing values](https://www.kaggle.com/code/rtatman/data-cleaning-challenge-handling-missing-values/notebook)"
   ]
  },
  {
   "cell_type": "code",
   "execution_count": 21,
   "id": "9db5d191",
   "metadata": {},
   "outputs": [
    {
     "name": "stderr",
     "output_type": "stream",
     "text": [
      "/var/folders/5z/mtl704h97qgb0rjsjlpzwlc40000gn/T/ipykernel_14220/2700973886.py:6: DtypeWarning: Columns (22,32) have mixed types. Specify dtype option on import or set low_memory=False.\n",
      "  sf_permits = pd.read_csv(\"input/Building_Permits.csv\")\n"
     ]
    }
   ],
   "source": [
    "# modules we'll use\n",
    "import pandas as pd\n",
    "import numpy as np\n",
    "\n",
    "# read in all our data\n",
    "sf_permits = pd.read_csv(\"input/Building_Permits.csv\")\n",
    "\n",
    "# set seed for reproducibility\n",
    "np.random.seed(0) \n"
   ]
  },
  {
   "cell_type": "code",
   "execution_count": 4,
   "id": "a838e5e3",
   "metadata": {},
   "outputs": [
    {
     "data": {
      "text/html": [
       "<div>\n",
       "<style scoped>\n",
       "    .dataframe tbody tr th:only-of-type {\n",
       "        vertical-align: middle;\n",
       "    }\n",
       "\n",
       "    .dataframe tbody tr th {\n",
       "        vertical-align: top;\n",
       "    }\n",
       "\n",
       "    .dataframe thead th {\n",
       "        text-align: right;\n",
       "    }\n",
       "</style>\n",
       "<table border=\"1\" class=\"dataframe\">\n",
       "  <thead>\n",
       "    <tr style=\"text-align: right;\">\n",
       "      <th></th>\n",
       "      <th>Permit Number</th>\n",
       "      <th>Permit Type</th>\n",
       "      <th>Permit Type Definition</th>\n",
       "      <th>Permit Creation Date</th>\n",
       "      <th>Block</th>\n",
       "      <th>Lot</th>\n",
       "      <th>Street Number</th>\n",
       "      <th>Street Number Suffix</th>\n",
       "      <th>Street Name</th>\n",
       "      <th>Street Suffix</th>\n",
       "      <th>...</th>\n",
       "      <th>Existing Construction Type</th>\n",
       "      <th>Existing Construction Type Description</th>\n",
       "      <th>Proposed Construction Type</th>\n",
       "      <th>Proposed Construction Type Description</th>\n",
       "      <th>Site Permit</th>\n",
       "      <th>Supervisor District</th>\n",
       "      <th>Neighborhoods - Analysis Boundaries</th>\n",
       "      <th>Zipcode</th>\n",
       "      <th>Location</th>\n",
       "      <th>Record ID</th>\n",
       "    </tr>\n",
       "  </thead>\n",
       "  <tbody>\n",
       "    <tr>\n",
       "      <th>78651</th>\n",
       "      <td>201503120624</td>\n",
       "      <td>8</td>\n",
       "      <td>otc alterations permit</td>\n",
       "      <td>03/12/2015</td>\n",
       "      <td>4273</td>\n",
       "      <td>029</td>\n",
       "      <td>2986</td>\n",
       "      <td>NaN</td>\n",
       "      <td>26th</td>\n",
       "      <td>St</td>\n",
       "      <td>...</td>\n",
       "      <td>5.0</td>\n",
       "      <td>wood frame (5)</td>\n",
       "      <td>5.0</td>\n",
       "      <td>wood frame (5)</td>\n",
       "      <td>NaN</td>\n",
       "      <td>9.0</td>\n",
       "      <td>Mission</td>\n",
       "      <td>94110.0</td>\n",
       "      <td>(37.74972976527956, -122.40963202424835)</td>\n",
       "      <td>1374057173006</td>\n",
       "    </tr>\n",
       "    <tr>\n",
       "      <th>177779</th>\n",
       "      <td>201707071220</td>\n",
       "      <td>8</td>\n",
       "      <td>otc alterations permit</td>\n",
       "      <td>07/07/2017</td>\n",
       "      <td>0453</td>\n",
       "      <td>004A</td>\n",
       "      <td>950</td>\n",
       "      <td>NaN</td>\n",
       "      <td>Bay</td>\n",
       "      <td>St</td>\n",
       "      <td>...</td>\n",
       "      <td>5.0</td>\n",
       "      <td>wood frame (5)</td>\n",
       "      <td>5.0</td>\n",
       "      <td>wood frame (5)</td>\n",
       "      <td>NaN</td>\n",
       "      <td>2.0</td>\n",
       "      <td>Russian Hill</td>\n",
       "      <td>94109.0</td>\n",
       "      <td>(37.80472551510833, -122.42280760820965)</td>\n",
       "      <td>1469546420378</td>\n",
       "    </tr>\n",
       "    <tr>\n",
       "      <th>64978</th>\n",
       "      <td>M529127</td>\n",
       "      <td>8</td>\n",
       "      <td>otc alterations permit</td>\n",
       "      <td>10/21/2014</td>\n",
       "      <td>0478</td>\n",
       "      <td>011</td>\n",
       "      <td>1290</td>\n",
       "      <td>NaN</td>\n",
       "      <td>Chestnut</td>\n",
       "      <td>St</td>\n",
       "      <td>...</td>\n",
       "      <td>NaN</td>\n",
       "      <td>NaN</td>\n",
       "      <td>NaN</td>\n",
       "      <td>NaN</td>\n",
       "      <td>NaN</td>\n",
       "      <td>2.0</td>\n",
       "      <td>Russian Hill</td>\n",
       "      <td>94109.0</td>\n",
       "      <td>(37.80244997614665, -122.42443255018165)</td>\n",
       "      <td>1359656465959</td>\n",
       "    </tr>\n",
       "    <tr>\n",
       "      <th>165958</th>\n",
       "      <td>201704073507</td>\n",
       "      <td>8</td>\n",
       "      <td>otc alterations permit</td>\n",
       "      <td>04/07/2017</td>\n",
       "      <td>6507</td>\n",
       "      <td>003A</td>\n",
       "      <td>1134</td>\n",
       "      <td>NaN</td>\n",
       "      <td>Noe</td>\n",
       "      <td>St</td>\n",
       "      <td>...</td>\n",
       "      <td>5.0</td>\n",
       "      <td>wood frame (5)</td>\n",
       "      <td>5.0</td>\n",
       "      <td>wood frame (5)</td>\n",
       "      <td>NaN</td>\n",
       "      <td>8.0</td>\n",
       "      <td>Noe Valley</td>\n",
       "      <td>94114.0</td>\n",
       "      <td>(37.750866393629146, -122.43209633372915)</td>\n",
       "      <td>1458922436280</td>\n",
       "    </tr>\n",
       "    <tr>\n",
       "      <th>147902</th>\n",
       "      <td>201701237639</td>\n",
       "      <td>8</td>\n",
       "      <td>otc alterations permit</td>\n",
       "      <td>01/23/2017</td>\n",
       "      <td>0623</td>\n",
       "      <td>001</td>\n",
       "      <td>1755</td>\n",
       "      <td>NaN</td>\n",
       "      <td>Van Ness</td>\n",
       "      <td>Av</td>\n",
       "      <td>...</td>\n",
       "      <td>5.0</td>\n",
       "      <td>wood frame (5)</td>\n",
       "      <td>5.0</td>\n",
       "      <td>wood frame (5)</td>\n",
       "      <td>NaN</td>\n",
       "      <td>2.0</td>\n",
       "      <td>Pacific Heights</td>\n",
       "      <td>94109.0</td>\n",
       "      <td>(37.791925784456105, -122.42306858292103)</td>\n",
       "      <td>1450933235988</td>\n",
       "    </tr>\n",
       "  </tbody>\n",
       "</table>\n",
       "<p>5 rows × 43 columns</p>\n",
       "</div>"
      ],
      "text/plain": [
       "       Permit Number  Permit Type  Permit Type Definition  \\\n",
       "78651   201503120624            8  otc alterations permit   \n",
       "177779  201707071220            8  otc alterations permit   \n",
       "64978        M529127            8  otc alterations permit   \n",
       "165958  201704073507            8  otc alterations permit   \n",
       "147902  201701237639            8  otc alterations permit   \n",
       "\n",
       "       Permit Creation Date Block   Lot  Street Number Street Number Suffix  \\\n",
       "78651            03/12/2015  4273   029           2986                  NaN   \n",
       "177779           07/07/2017  0453  004A            950                  NaN   \n",
       "64978            10/21/2014  0478   011           1290                  NaN   \n",
       "165958           04/07/2017  6507  003A           1134                  NaN   \n",
       "147902           01/23/2017  0623   001           1755                  NaN   \n",
       "\n",
       "       Street Name Street Suffix  ...  Existing Construction Type  \\\n",
       "78651         26th            St  ...                         5.0   \n",
       "177779         Bay            St  ...                         5.0   \n",
       "64978     Chestnut            St  ...                         NaN   \n",
       "165958         Noe            St  ...                         5.0   \n",
       "147902    Van Ness            Av  ...                         5.0   \n",
       "\n",
       "       Existing Construction Type Description Proposed Construction Type  \\\n",
       "78651                          wood frame (5)                        5.0   \n",
       "177779                         wood frame (5)                        5.0   \n",
       "64978                                     NaN                        NaN   \n",
       "165958                         wood frame (5)                        5.0   \n",
       "147902                         wood frame (5)                        5.0   \n",
       "\n",
       "       Proposed Construction Type Description Site Permit Supervisor District  \\\n",
       "78651                          wood frame (5)         NaN                 9.0   \n",
       "177779                         wood frame (5)         NaN                 2.0   \n",
       "64978                                     NaN         NaN                 2.0   \n",
       "165958                         wood frame (5)         NaN                 8.0   \n",
       "147902                         wood frame (5)         NaN                 2.0   \n",
       "\n",
       "       Neighborhoods - Analysis Boundaries  Zipcode  \\\n",
       "78651                              Mission  94110.0   \n",
       "177779                        Russian Hill  94109.0   \n",
       "64978                         Russian Hill  94109.0   \n",
       "165958                          Noe Valley  94114.0   \n",
       "147902                     Pacific Heights  94109.0   \n",
       "\n",
       "                                         Location      Record ID  \n",
       "78651    (37.74972976527956, -122.40963202424835)  1374057173006  \n",
       "177779   (37.80472551510833, -122.42280760820965)  1469546420378  \n",
       "64978    (37.80244997614665, -122.42443255018165)  1359656465959  \n",
       "165958  (37.750866393629146, -122.43209633372915)  1458922436280  \n",
       "147902  (37.791925784456105, -122.42306858292103)  1450933235988  \n",
       "\n",
       "[5 rows x 43 columns]"
      ]
     },
     "execution_count": 4,
     "metadata": {},
     "output_type": "execute_result"
    }
   ],
   "source": [
    "# Look at a couple of rows from the sf_permits. There are many missing data\n",
    "\n",
    "sf_permits.sample(5)"
   ]
  },
  {
   "cell_type": "code",
   "execution_count": 10,
   "id": "cb02fed8",
   "metadata": {},
   "outputs": [
    {
     "data": {
      "text/plain": [
       "26.26002315058403"
      ]
     },
     "execution_count": 10,
     "metadata": {},
     "output_type": "execute_result"
    }
   ],
   "source": [
    "# get the number of missing data points per column in sf_permits\n",
    "missing_values_count = sf_permits.isnull().sum()\n",
    "\n",
    "# look at the # of missing points in the first ten columns\n",
    "missing_values_count[0:10]\n",
    "\n",
    "# Total missing values in the sf_permits dataset\n",
    "total_cells = np.product(sf_permits.shape)\n",
    "total_missing = missing_values_count.sum()\n",
    "\n",
    "# percent of data that is missing\n",
    "(total_missing/total_cells) * 100"
   ]
  },
  {
   "cell_type": "code",
   "execution_count": 15,
   "id": "e382b1dc",
   "metadata": {},
   "outputs": [
    {
     "data": {
      "text/plain": [
       "Permit Number                                  0\n",
       "Permit Type                                    0\n",
       "Permit Type Definition                         0\n",
       "Permit Creation Date                           0\n",
       "Block                                          0\n",
       "Lot                                            0\n",
       "Street Number                                  0\n",
       "Street Number Suffix                      196684\n",
       "Street Name                                    0\n",
       "Street Suffix                               2768\n",
       "Unit                                      169421\n",
       "Unit Suffix                               196939\n",
       "Description                                  290\n",
       "Current Status                                 0\n",
       "Current Status Date                            0\n",
       "Filed Date                                     0\n",
       "Issued Date                                14940\n",
       "Completed Date                            101709\n",
       "First Construction Document Date           14946\n",
       "Structural Notification                   191978\n",
       "Number of Existing Stories                 42784\n",
       "Number of Proposed Stories                 42868\n",
       "Voluntary Soft-Story Retrofit             198865\n",
       "Fire Only Permit                          180073\n",
       "Permit Expiration Date                     51880\n",
       "Estimated Cost                             38066\n",
       "Revised Cost                                6066\n",
       "Existing Use                               41114\n",
       "Existing Units                             51538\n",
       "Proposed Use                               42439\n",
       "Proposed Units                             50911\n",
       "Plansets                                   37309\n",
       "TIDF Compliance                           198898\n",
       "Existing Construction Type                 43366\n",
       "Existing Construction Type Description     43366\n",
       "Proposed Construction Type                 43162\n",
       "Proposed Construction Type Description     43162\n",
       "Site Permit                               193541\n",
       "Supervisor District                         1717\n",
       "Neighborhoods - Analysis Boundaries         1725\n",
       "Zipcode                                     1716\n",
       "Location                                    1700\n",
       "Record ID                                      0\n",
       "dtype: int64"
      ]
     },
     "execution_count": 15,
     "metadata": {},
     "output_type": "execute_result"
    }
   ],
   "source": [
    "# look at the # of missing points in the first ten columns\n",
    "missing_values_count"
   ]
  },
  {
   "cell_type": "markdown",
   "id": "4e03fa57",
   "metadata": {},
   "source": [
    "# Data Cleaning Challenge\n",
    "\n",
    "## Handling missing values"
   ]
  },
  {
   "cell_type": "markdown",
   "id": "fec52a75",
   "metadata": {},
   "source": [
    "\n",
    "## Scaling and normalization"
   ]
  },
  {
   "cell_type": "markdown",
   "id": "d953603b",
   "metadata": {},
   "source": [
    "\n",
    "## Parsing dates"
   ]
  },
  {
   "cell_type": "markdown",
   "id": "00ddd849",
   "metadata": {},
   "source": [
    "\n",
    "## Character encodings"
   ]
  },
  {
   "cell_type": "markdown",
   "id": "62131ed4",
   "metadata": {},
   "source": [
    "\n",
    "## Inconsistent Data Entry"
   ]
  }
 ],
 "metadata": {
  "kernelspec": {
   "display_name": "Python 3 (ipykernel)",
   "language": "python",
   "name": "python3"
  },
  "language_info": {
   "codemirror_mode": {
    "name": "ipython",
    "version": 3
   },
   "file_extension": ".py",
   "mimetype": "text/x-python",
   "name": "python",
   "nbconvert_exporter": "python",
   "pygments_lexer": "ipython3",
   "version": "3.9.12"
  }
 },
 "nbformat": 4,
 "nbformat_minor": 5
}
