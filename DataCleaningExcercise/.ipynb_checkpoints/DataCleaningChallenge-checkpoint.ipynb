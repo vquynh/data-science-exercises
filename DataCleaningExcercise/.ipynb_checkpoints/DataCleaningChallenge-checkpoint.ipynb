{
 "cells": [
  {
   "cell_type": "markdown",
   "id": "706d617d",
   "metadata": {},
   "source": [
    "# Data Cleaning Challenge\n",
    "\n",
    "## Handling missing values"
   ]
  },
  {
   "cell_type": "markdown",
   "id": "fec52a75",
   "metadata": {},
   "source": [
    "\n",
    "## Scaling and normalization"
   ]
  },
  {
   "cell_type": "markdown",
   "id": "d953603b",
   "metadata": {},
   "source": [
    "\n",
    "## Parsing dates"
   ]
  },
  {
   "cell_type": "markdown",
   "id": "00ddd849",
   "metadata": {},
   "source": [
    "\n",
    "## Character encodings"
   ]
  },
  {
   "cell_type": "markdown",
   "id": "62131ed4",
   "metadata": {},
   "source": [
    "\n",
    "## Inconsistent Data Entry"
   ]
  }
 ],
 "metadata": {
  "kernelspec": {
   "display_name": "Python 3 (ipykernel)",
   "language": "python",
   "name": "python3"
  },
  "language_info": {
   "codemirror_mode": {
    "name": "ipython",
    "version": 3
   },
   "file_extension": ".py",
   "mimetype": "text/x-python",
   "name": "python",
   "nbconvert_exporter": "python",
   "pygments_lexer": "ipython3",
   "version": "3.9.12"
  }
 },
 "nbformat": 4,
 "nbformat_minor": 5
}
