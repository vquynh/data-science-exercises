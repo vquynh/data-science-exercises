{
 "cells": [
  {
   "cell_type": "markdown",
   "source": [
    "# Data Cleaning Challenge\n",
    "\n",
    "## Handling missing values"
   ],
   "metadata": {
    "collapsed": false,
    "pycharm": {
     "name": "#%% md\n"
    }
   }
  },
  {
   "cell_type": "markdown",
   "id": "00ddd849",
   "metadata": {},
   "source": [
    "\n",
    "## Character encodings"
   ]
  },
  {
   "cell_type": "markdown",
   "id": "62131ed4",
   "metadata": {},
   "source": [
    "\n",
    "## Inconsistent Data Entry"
   ]
  }
 ],
 "metadata": {
  "kernelspec": {
   "display_name": "Python 3 (ipykernel)",
   "language": "python",
   "name": "python3"
  },
  "language_info": {
   "codemirror_mode": {
    "name": "ipython",
    "version": 3
   },
   "file_extension": ".py",
   "mimetype": "text/x-python",
   "name": "python",
   "nbconvert_exporter": "python",
   "pygments_lexer": "ipython3",
   "version": "3.9.12"
  }
 },
 "nbformat": 4,
 "nbformat_minor": 5
}