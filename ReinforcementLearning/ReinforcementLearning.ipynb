{
 "cells": [
  {
   "cell_type": "markdown",
   "id": "eecc0972",
   "metadata": {},
   "source": [
    "# Reinforcement Learning\n",
    "Write a client for any environment from open.ai GYM."
   ]
  },
  {
   "cell_type": "markdown",
   "id": "8f1c6273",
   "metadata": {},
   "source": [
    "## Create a \"Acrobot-v1\" client with random action\n",
    "This is based on the tutorial [Getting Started With OpenAI Gym: The Basic Building Blocks](https://blog.paperspace.com/getting-started-with-openai-gym/) by Ayoosh Kathuria"
   ]
  },
  {
   "cell_type": "code",
   "execution_count": 5,
   "id": "84bcca18",
   "metadata": {
    "scrolled": true
   },
   "outputs": [
    {
     "name": "stdout",
     "output_type": "stream",
     "text": [
      "The observation space: Box([ -1.        -1.        -1.        -1.       -12.566371 -28.274334], [ 1.        1.        1.        1.       12.566371 28.274334], (6,), float32)\n",
      "The action space: Discrete(3)\n"
     ]
    }
   ],
   "source": [
    "import gym\n",
    "\n",
    "env = gym.make(\"Acrobot-v1\")\n",
    "# Observation and action space \n",
    "obs_space = env.observation_space\n",
    "action_space = env.action_space\n",
    "print(\"The observation space: {}\".format(obs_space))\n",
    "print(\"The action space: {}\".format(action_space))"
   ]
  },
  {
   "cell_type": "code",
   "execution_count": 6,
   "id": "9ff97c9b",
   "metadata": {},
   "outputs": [
    {
     "name": "stdout",
     "output_type": "stream",
     "text": [
      "The initial observation is [ 0.99943817 -0.0335158   0.99944896  0.03319339 -0.01735185 -0.0614587 ]\n",
      "The new observation is [ 0.9998198  -0.0189821   0.99980867 -0.0195598   0.15789415 -0.45432547]\n"
     ]
    }
   ],
   "source": [
    "import matplotlib.pyplot as plt \n",
    "\n",
    "# reset the environment and see the initial observation\n",
    "obs = env.reset()\n",
    "print(\"The initial observation is {}\".format(obs))\n",
    "\n",
    "# Sample a random action from the entire action space\n",
    "random_action = env.action_space.sample()\n",
    "\n",
    "# Take the action and get the new observation space\n",
    "new_obs, reward, done, info = env.step(random_action)\n",
    "print(\"The new observation is {}\".format(new_obs))"
   ]
  },
  {
   "cell_type": "code",
   "execution_count": 8,
   "id": "7de47dba",
   "metadata": {},
   "outputs": [
    {
     "name": "stderr",
     "output_type": "stream",
     "text": [
      "2022-07-10 12:17:04.042 python[44265:3035469] Warning: Expected min height of view: (<NSPopoverTouchBarItemButton: 0x7fc4a676af00>) to be less than or equal to 30 but got a height of 32.000000. This error will be logged once per view in violation.\n",
      "2022-07-10 12:17:04.043 python[44265:3035469] Warning: Expected min height of view: (<NSButton: 0x7fc486b615b0>) to be less than or equal to 30 but got a height of 32.000000. This error will be logged once per view in violation.\n",
      "2022-07-10 12:17:04.045 python[44265:3035469] Warning: Expected min height of view: (<NSPopoverTouchBarItemButton: 0x7fc486b61d40>) to be less than or equal to 30 but got a height of 32.000000. This error will be logged once per view in violation.\n",
      "2022-07-10 12:17:04.047 python[44265:3035469] Warning: Expected min height of view: (<NSPopoverTouchBarItemButton: 0x7fc486b65100>) to be less than or equal to 30 but got a height of 32.000000. This error will be logged once per view in violation.\n"
     ]
    },
    {
     "data": {
      "text/plain": [
       "<matplotlib.image.AxesImage at 0x7fc4e9674e80>"
      ]
     },
     "execution_count": 8,
     "metadata": {},
     "output_type": "execute_result"
    },
    {
     "data": {
      "image/png": "[encoded data removed]",
      "text/plain": [
       "<Figure size 432x288 with 1 Axes>"
      ]
     },
     "metadata": {
      "needs_background": "light"
     },
     "output_type": "display_data"
    }
   ],
   "source": [
    "# Capture the environment screen\n",
    "env_screen = env.render(mode = 'rgb_array')\n",
    "env.close()\n",
    "\n",
    "# Plot the screenshot\n",
    "import matplotlib.pyplot as plt \n",
    "plt.imshow(env_screen)"
   ]
  },
  {
   "cell_type": "code",
   "execution_count": 9,
   "id": "3e57092f",
   "metadata": {},
   "outputs": [
    {
     "name": "stderr",
     "output_type": "stream",
     "text": [
      "2022-07-10 12:18:27.866 python[44265:3035469] Warning: Expected min height of view: (<NSPopoverTouchBarItemButton: 0x7fc486b638b0>) to be less than or equal to 30 but got a height of 32.000000. This error will be logged once per view in violation.\n",
      "2022-07-10 12:18:27.866 python[44265:3035469] Warning: Expected min height of view: (<NSButton: 0x7fc486b6b390>) to be less than or equal to 30 but got a height of 32.000000. This error will be logged once per view in violation.\n",
      "2022-07-10 12:18:27.868 python[44265:3035469] Warning: Expected min height of view: (<NSPopoverTouchBarItemButton: 0x7fc487b14bd0>) to be less than or equal to 30 but got a height of 32.000000. This error will be logged once per view in violation.\n",
      "2022-07-10 12:18:27.870 python[44265:3035469] Warning: Expected min height of view: (<NSPopoverTouchBarItemButton: 0x7fc486c72a30>) to be less than or equal to 30 but got a height of 32.000000. This error will be logged once per view in violation.\n"
     ]
    }
   ],
   "source": [
    "# Run the agent with random actions\n",
    "import time \n",
    "\n",
    "# Number of steps to run the agent for \n",
    "num_steps = 1500\n",
    "\n",
    "obs = env.reset()\n",
    "\n",
    "for step in range(num_steps):\n",
    "    # Take a random action\n",
    "    action = env.action_space.sample()\n",
    "    \n",
    "    # Apply the action\n",
    "    obs, reward, done, info = env.step(action)\n",
    "    \n",
    "    # Render the env\n",
    "    env.render()\n",
    "\n",
    "    # Wait a millisecond before the next frame\n",
    "    time.sleep(0.001)\n",
    "    \n",
    "    if done:\n",
    "        env.reset()\n",
    "\n",
    "# Close the env\n",
    "env.close()\n"
   ]
  },
  {
   "cell_type": "markdown",
   "id": "c64806db",
   "metadata": {},
   "source": [
    "Here is a screen recording of the Acrobot movement: [video](robotic.mov)"
   ]
  },
  {
   "cell_type": "code",
   "execution_count": null,
   "id": "7cbc635c",
   "metadata": {},
   "outputs": [],
   "source": []
  }
 ],
 "metadata": {
  "kernelspec": {
   "display_name": "Python 3 (ipykernel)",
   "language": "python",
   "name": "python3"
  },
  "language_info": {
   "codemirror_mode": {
    "name": "ipython",
    "version": 3
   },
   "file_extension": ".py",
   "mimetype": "text/x-python",
   "name": "python",
   "nbconvert_exporter": "python",
   "pygments_lexer": "ipython3",
   "version": "3.9.12"
  }
 },
 "nbformat": 4,
 "nbformat_minor": 5
}
